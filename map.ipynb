{
 "cells": [
  {
   "cell_type": "code",
   "execution_count": 17,
   "metadata": {},
   "outputs": [],
   "source": [
    "from ipyleaflet import Map, Polyline, Marker, LayerGroup, AntPath, TraitError\n"
   ]
  },
  {
   "attachments": {},
   "cell_type": "markdown",
   "metadata": {},
   "source": [
    "Tao ban do phuong Ly Thai To\n"
   ]
  },
  {
   "cell_type": "code",
   "execution_count": 18,
   "metadata": {},
   "outputs": [],
   "source": [
    "map = Map(center=(21.0312306, 105.855141),\n",
    "          max_zoom=19,\n",
    "          min_zoom=15,\n",
    "          zoom=16,\n",
    "          scroll_wheel_zoom=True)\n"
   ]
  },
  {
   "cell_type": "markdown",
   "metadata": {},
   "source": [
    "Tao cac diem giao, cac diem lan can va ve bien cho vung phuong Ly Thai To"
   ]
  },
  {
   "cell_type": "code",
   "execution_count": 19,
   "metadata": {},
   "outputs": [],
   "source": [
    "intersections = [[21.03484447267869, 105.85407615221158], [21.03484447267869, 105.85437655448915], [21.03483445878712, 105.85461797211815], [21.03386811508461, 105.85529924807584], [21.032666435416598, 105.85588396621971], [21.031324548334275, 105.85650086231823], [21.0298574713911, 105.85717142312546], [21.02911140965842, 105.85752010174389], [21.027899677274632, 105.85812629295614], [21.02768937560973, 105.8573350353093], [21.027591735450162, 105.85607171571866], [21.027584224666004, 105.85588662790035], [21.027844598295847, 105.85366845644131], [21.028780938167145, 105.8538079210459], [21.029476930302835, 105.8538293770073], [21.030318125092577, 105.85383474484675], [21.030658607348045, 105.85366832813907], [21.0312644635554, 105.85329293862574], [21.031364604840068, 105.85392595192813], [21.032160725658937, 105.85386157035829], [\n",
    "    21.033016926320872, 105.85384548565767], [21.03376046500956, 105.85378915328093], [21.03378549991767, 105.85389107807882], [21.03436630860511, 105.85393935869645], [21.03437381904745, 105.8544114266277], [21.03379301038928, 105.85445663927418], [21.03380302435085, 105.85477840171417], [21.03302193332782, 105.85445702589168], [21.033147108446766, 105.85513831382424], [21.032130683441117, 105.8545209917622], [21.032511217752727, 105.8554869992855], [21.031419682517942, 105.85455894983426], [21.031269470621226, 105.85580885752448], [21.030713685286862, 105.85389912983797], [21.03091396852914, 105.85602880550651], [21.03070367111768, 105.85618436336519], [21.029752321977018, 105.85669934236395], [21.0289311525722, 105.85542262113705], [21.028976216864198, 105.85650622673627], [21.029026288283763, 105.85694610217193]]\n",
    "\n",
    "\n",
    "def hash(point):\n",
    "    return point[0]**2 + point[1]**2\n",
    "\n",
    "\n",
    "adjacents = {\n",
    "    hash(intersections[0]): [intersections[1]],\n",
    "    hash(intersections[1]): [intersections[2], intersections[24]],\n",
    "    hash(intersections[2]): [intersections[1], intersections[3]],\n",
    "    hash(intersections[3]): [intersections[2], intersections[26], intersections[4]],\n",
    "    hash(intersections[4]): [intersections[30], intersections[5]],\n",
    "    hash(intersections[5]): [intersections[32], intersections[6]],\n",
    "    hash(intersections[6]): [intersections[36], intersections[7]],\n",
    "    hash(intersections[7]): [intersections[39], intersections[8]],\n",
    "    hash(intersections[8]): [intersections[9]],\n",
    "    hash(intersections[9]): [intersections[8], intersections[39], intersections[10]],\n",
    "    hash(intersections[10]): [intersections[9], intersections[38], intersections[11]],\n",
    "    hash(intersections[11]): [intersections[10]],\n",
    "    hash(intersections[12]): [intersections[11], intersections[13]],\n",
    "    hash(intersections[13]): [intersections[37], intersections[14]],\n",
    "    hash(intersections[14]): [intersections[15]],\n",
    "    hash(intersections[15]): [intersections[16], intersections[33]],\n",
    "    hash(intersections[16]): [intersections[33], intersections[17]],\n",
    "    hash(intersections[17]): [],\n",
    "    hash(intersections[18]): [intersections[17], intersections[33], intersections[19]],\n",
    "    hash(intersections[19]): [intersections[18], intersections[29], intersections[20]],\n",
    "    hash(intersections[20]): [intersections[21]],\n",
    "    hash(intersections[21]): [intersections[22]],\n",
    "    hash(intersections[22]): [intersections[21], intersections[23], intersections[25]],\n",
    "    hash(intersections[23]): [intersections[22], intersections[24]],\n",
    "    hash(intersections[24]): [intersections[23], intersections[25]],\n",
    "    hash(intersections[25]): [intersections[22], intersections[26], intersections[27]],\n",
    "    hash(intersections[26]): [intersections[2], intersections[25], intersections[3]],\n",
    "    hash(intersections[27]): [intersections[29]],\n",
    "    hash(intersections[28]): [intersections[26], intersections[27]],\n",
    "    hash(intersections[29]): [intersections[30], intersections[31]],\n",
    "    hash(intersections[30]): [intersections[29], intersections[28], intersections[4]],\n",
    "    hash(intersections[31]): [intersections[18], intersections[32], intersections[37]],\n",
    "    hash(intersections[32]): [intersections[31], intersections[30], intersections[5]],\n",
    "    hash(intersections[33]): [intersections[16], intersections[15], intersections[18]],\n",
    "    hash(intersections[34]): [intersections[32]],\n",
    "    hash(intersections[35]): [intersections[34]],\n",
    "    hash(intersections[36]): [intersections[35], intersections[6]],\n",
    "    hash(intersections[37]): [intersections[38], intersections[13], intersections[11]],\n",
    "    hash(intersections[38]): [intersections[36], intersections[37], intersections[39]],\n",
    "    hash(intersections[39]): [intersections[38], intersections[7], intersections[9], intersections[36]]\n",
    "}\n",
    "\n",
    "map.add_layer(Polyline(\n",
    "    locations=[intersections[0:24] + [intersections[0]]],\n",
    "    dash_array=\"5.5\",\n",
    "    color=\"red\",\n",
    "    weight=4,\n",
    "    fill=False,\n",
    "))\n"
   ]
  },
  {
   "cell_type": "markdown",
   "metadata": {},
   "source": [
    "Thuat toan tim duong di"
   ]
  },
  {
   "cell_type": "code",
   "execution_count": 20,
   "metadata": {},
   "outputs": [],
   "source": [
    "def find_path(start, end):\n",
    "    # Find the distance between two points.\n",
    "    def distance(point1, point2):\n",
    "        return (point1[0] - point2[0])**2 + (point1[1] - point2[1])**2\n",
    "\n",
    "    # Find the point in a list of points that is closest to a target point.\n",
    "    def point_nearest_to_target(points, target):\n",
    "        return min(points, key=lambda point: distance(point, target))\n",
    "\n",
    "    # Find the closest intersection to the start point.\n",
    "    new_start = point_nearest_to_target(intersections, start)\n",
    "    # Find the closest intersection to the end point.\n",
    "    new_end = point_nearest_to_target(intersections, end)\n",
    "\n",
    "    # Trace a route from the new start point to the new end point.\n",
    "    route = [new_start]\n",
    "\n",
    "    # Try to find a route from the current point to the new end point.\n",
    "    def find_next_point(cur_point, end):\n",
    "        # Find the points adjacent to the current point that have not yet been visited.\n",
    "        adjacents_not_visited = [\n",
    "            adjacent for adjacent in adjacents[hash(cur_point)] if adjacent not in route]\n",
    "        # Sort the adjacent points by their distance to the new end point.\n",
    "        for point in sorted(adjacents_not_visited, key=lambda adjacent: distance(adjacent, end)):\n",
    "            route.append(point)\n",
    "            if point == end:\n",
    "                raise Exception(\"Route found\")\n",
    "            else:\n",
    "                find_next_point(point, end)\n",
    "            route.remove(point)\n",
    "\n",
    "    try:\n",
    "        find_next_point(new_start, new_end)\n",
    "    except Exception as exception:\n",
    "        if \"Route found\" in str(exception):\n",
    "            return [start] + route + [end]\n",
    "        else:\n",
    "            raise exception\n"
   ]
  },
  {
   "cell_type": "markdown",
   "metadata": {},
   "source": [
    "Lap trinh chuong trinh"
   ]
  },
  {
   "cell_type": "code",
   "execution_count": 21,
   "metadata": {},
   "outputs": [
    {
     "data": {
      "application/vnd.jupyter.widget-view+json": {
       "model_id": "b14cbff1df74446c9e877fcdd2ce3250",
       "version_major": 2,
       "version_minor": 0
      },
      "text/plain": [
       "Map(center=[21.0312306, 105.855141], controls=(ZoomControl(options=['position', 'zoom_in_text', 'zoom_in_title…"
      ]
     },
     "metadata": {},
     "output_type": "display_data"
    }
   ],
   "source": [
    "# Create a layer group to hold the path we draw between start and end points\n",
    "path_wrapper = LayerGroup()\n",
    "map.add_layer(path_wrapper)\n",
    "\n",
    "\n",
    "def draw_path(start_location, end_location):\n",
    "\n",
    "    # Clear the current path\n",
    "    path_wrapper.clear_layers()\n",
    "    try:\n",
    "        # Create a new path based on the start and end locations\n",
    "        path_wrapper.add_layer(AntPath(locations=find_path(\n",
    "            start_location, end_location), fill=False))\n",
    "    except TraitError:\n",
    "        print(\"No route found!\")\n",
    "\n",
    "\n",
    "def handle_move_start_marker(**kwargs):\n",
    "    # Redraw the path layer whenever we move the start marker\n",
    "    draw_path(kwargs[\"location\"], end_marker.location)\n",
    "\n",
    "\n",
    "def handle_move_end_marker(**kwargs):\n",
    "    # Redraw the path layer whenever we move the end marker\n",
    "    draw_path(start_marker.location, kwargs[\"location\"])\n",
    "\n",
    "\n",
    "# Create the start and end markers\n",
    "start_marker = Marker(location=intersections[0],\n",
    "                      draggable=True, title=\"Start\")\n",
    "end_marker = Marker(location=intersections[9],\n",
    "                    draggable=True, title=\"End\")\n",
    "\n",
    "# Draw the initial path between the start and end markers\n",
    "draw_path(start_marker.location, end_marker.location)\n",
    "\n",
    "# Bind our handlers to the markers\n",
    "start_marker.on_move(handle_move_start_marker)\n",
    "end_marker.on_move(handle_move_end_marker)\n",
    "\n",
    "# Add the markers to the map\n",
    "map.add_layer(start_marker)\n",
    "map.add_layer(end_marker)\n",
    "\n",
    "# Display the map\n",
    "display(map)\n"
   ]
  }
 ],
 "metadata": {
  "kernelspec": {
   "display_name": "Python 3.10.11 64-bit",
   "language": "python",
   "name": "python3"
  },
  "language_info": {
   "codemirror_mode": {
    "name": "ipython",
    "version": 3
   },
   "file_extension": ".py",
   "mimetype": "text/x-python",
   "name": "python",
   "nbconvert_exporter": "python",
   "pygments_lexer": "ipython3",
   "version": "3.10.11"
  },
  "orig_nbformat": 4,
  "vscode": {
   "interpreter": {
    "hash": "1fa163922eb0b3709bbb5d8082b2465c9de796dbaacca80cbaa600e7fff3e4fe"
   }
  }
 },
 "nbformat": 4,
 "nbformat_minor": 2
}
