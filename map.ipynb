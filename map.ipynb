{
 "cells": [
  {
   "cell_type": "markdown",
   "metadata": {},
   "source": [
    "Tao ban do phuong Ly Thai To"
   ]
  },
  {
   "cell_type": "code",
   "execution_count": 9,
   "metadata": {},
   "outputs": [
    {
     "data": {
      "application/vnd.jupyter.widget-view+json": {
       "model_id": "8948bebadd234f8690a5df119005b4c3",
       "version_major": 2,
       "version_minor": 0
      },
      "text/plain": [
       "Map(center=[21.0312306, 105.855141], controls=(ZoomControl(options=['position', 'zoom_in_text', 'zoom_in_title…"
      ]
     },
     "metadata": {},
     "output_type": "display_data"
    }
   ],
   "source": [
    "from ipyleaflet import Map, Marker, LayerGroup\n",
    "\n",
    "\n",
    "map = Map(center=(21.0312306, 105.855141), # kwargs: key work arguments\n",
    "          max_zoom=19,\n",
    "          min_zoom=16,\n",
    "          zoom=16,\n",
    "          scroll_wheel_zoom=True)\n",
    "\n",
    "display(map)\n"
   ]
  },
  {
   "cell_type": "markdown",
   "metadata": {},
   "source": [
    "Them cac su kien\n",
    "- `handle_interaction_map`: moi lan click vao cho trong tren map -> sinh ra mot marker moi\n",
    "- `handle_onclick_marker`: moi lan click vao marker -> xoa marker do"
   ]
  },
  {
   "cell_type": "code",
   "execution_count": 10,
   "metadata": {},
   "outputs": [],
   "source": [
    "layer_group = LayerGroup()\n",
    "\n",
    "\n",
    "def handle_onclick_marker(**kwargs):\n",
    "    if kwargs['type'] == 'click':\n",
    "        for layer in layer_group.layers:\n",
    "            if layer.location == kwargs['coordinates']:\n",
    "                map.remove_layer(layer)\n",
    "                layer_group.remove_layer(layer)\n",
    "\n",
    "\n",
    "def handle_interaction_map(**kwargs):\n",
    "    if kwargs.get('type') == 'click':\n",
    "        marker = Marker(location=kwargs.get('coordinates'),\n",
    "                        draggable=True, title=str(kwargs.get('coordinates')))\n",
    "        marker.on_click(handle_onclick_marker)\n",
    "        layer_group.add_layer(marker)\n",
    "        map.add_layer(marker)\n",
    "\n",
    "\n",
    "map.on_interaction(handle_interaction_map)\n"
   ]
  },
  {
   "cell_type": "markdown",
   "metadata": {},
   "source": [
    "Hien thi cac marker hien tai tren ban do (can chay lai block nay moi khi them moi mot marker)"
   ]
  },
  {
   "cell_type": "code",
   "execution_count": 11,
   "metadata": {},
   "outputs": [
    {
     "name": "stdout",
     "output_type": "stream",
     "text": [
      "[]\n"
     ]
    }
   ],
   "source": [
    "print([layer.location for layer in layer_group.layers if isinstance(layer, Marker)])"
   ]
  },
  {
   "cell_type": "code",
   "execution_count": 12,
   "metadata": {},
   "outputs": [
    {
     "name": "stdout",
     "output_type": "stream",
     "text": [
      "11647.589327822743 [[21.031356595495655, 105.85393774483238], [21.031284491817722, 105.8558319207896]]\n",
      "11647.374096333748 [[21.028924145503872, 105.85543763598254], [21.031284491817722, 105.8558319207896], [21.03142719310881, 105.85457128255258]]\n"
     ]
    }
   ],
   "source": [
    "intersections = [[21.028924145503872, 105.85543763598254], [21.031356595495655, 105.85393774483238], [\n",
    "    21.031284491817722, 105.8558319207896], [21.03142719310881, 105.85457128255258]]\n",
    "\n",
    "def hash(point):\n",
    "    return point[0]**2 + point[1]**2\n",
    "\n",
    "adjacents = {\n",
    "    hash(intersections[0]): [intersections[1], intersections[2]],\n",
    "    hash(intersections[1]): [intersections[0], intersections[2], intersections[3]],\n",
    "}\n",
    "\n",
    "for key, value in adjacents.items():\n",
    "    print(key, value)\n"
   ]
  },
  {
   "cell_type": "code",
   "execution_count": 13,
   "metadata": {},
   "outputs": [
    {
     "name": "stdout",
     "output_type": "stream",
     "text": [
      "[0, 2, 4]\n"
     ]
    }
   ],
   "source": [
    "nums = [0,1,2,3,4]\n",
    "\n",
    "# evens = []\n",
    "# for num in nums:\n",
    "#     if num % 2 == 0:\n",
    "#         evens.append(num)\n",
    "\n",
    "# print(evens)\n",
    "# list comprehension\n",
    "evens = [num for num in nums if num % 2 == 0]\n",
    "print(evens)"
   ]
  },
  {
   "cell_type": "code",
   "execution_count": 15,
   "metadata": {},
   "outputs": [],
   "source": [
    "from ipyleaflet import Polyline\n",
    "\n",
    "lines = Polyline(\n",
    "    locations=[\n",
    "        [21.0312306, 105.855141], [21.0412306, 105.955141]\n",
    "    ],\n",
    "    color=\"green\",\n",
    "    fill=False\n",
    ")\n",
    "\n",
    "map.add_layer(lines)"
   ]
  }
 ],
 "metadata": {
  "kernelspec": {
   "display_name": "Python 3.10.11 64-bit",
   "language": "python",
   "name": "python3"
  },
  "language_info": {
   "codemirror_mode": {
    "name": "ipython",
    "version": 3
   },
   "file_extension": ".py",
   "mimetype": "text/x-python",
   "name": "python",
   "nbconvert_exporter": "python",
   "pygments_lexer": "ipython3",
   "version": "3.10.11"
  },
  "orig_nbformat": 4,
  "vscode": {
   "interpreter": {
    "hash": "1fa163922eb0b3709bbb5d8082b2465c9de796dbaacca80cbaa600e7fff3e4fe"
   }
  }
 },
 "nbformat": 4,
 "nbformat_minor": 2
}
